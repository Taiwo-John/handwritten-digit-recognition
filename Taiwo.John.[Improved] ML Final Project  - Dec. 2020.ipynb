{
 "cells": [
  {
   "cell_type": "code",
   "execution_count": 16,
   "metadata": {},
   "outputs": [],
   "source": [
    "#import the needed libraries\n",
    "import numpy as np \n",
    "import pandas as pd \n",
    "import keras \n",
    "from keras import Sequential \n",
    "from keras.datasets import mnist\n",
    "from keras.layers import Dense, Conv2D, MaxPooling2D\n",
    "from keras.layers import Dropout, Flatten\n",
    "from keras.layers import BatchNormalization\n",
    "from keras import backend as K\n",
    "from scipy.ndimage.interpolation import shift"
   ]
  },
  {
   "cell_type": "code",
   "execution_count": 17,
   "metadata": {},
   "outputs": [],
   "source": [
    "#load the datasets from MNIST. I have divided the dataset into the training and test data\n",
    "(X_train, y_train), (X_test, y_test) = mnist.load_data()"
   ]
  },
  {
   "cell_type": "code",
   "execution_count": 18,
   "metadata": {},
   "outputs": [
    {
     "data": {
      "text/plain": [
       "((60000, 28, 28), (60000,))"
      ]
     },
     "execution_count": 18,
     "metadata": {},
     "output_type": "execute_result"
    }
   ],
   "source": [
    "X_train.shape, y_train.shape"
   ]
  },
  {
   "cell_type": "code",
   "execution_count": 19,
   "metadata": {},
   "outputs": [],
   "source": [
    "#we need to preprocess the data; the train data dimension is initially (60000, 28, 28)\n",
    "#the model requires one more dimension, and so I reshaped the matrix to be (600000, 28, 28, 1)\n",
    "X_train = X_train.reshape (X_train.shape[0], 28, 28, 1)\n",
    "X_test = X_test.reshape (X_test.shape[0], 28, 28, 1)"
   ]
  },
  {
   "cell_type": "code",
   "execution_count": 20,
   "metadata": {},
   "outputs": [],
   "source": [
    "#defining the shape of the input data\n",
    "input_ = (28, 28, 1)"
   ]
  },
  {
   "cell_type": "markdown",
   "metadata": {},
   "source": [
    "# Possible improvement method: Augmentation. Did not implement due to dataset size"
   ]
  },
  {
   "cell_type": "code",
   "execution_count": 21,
   "metadata": {},
   "outputs": [],
   "source": [
    "# #image shifting function \n",
    "# def shift_image(img, ix, iy):\n",
    "#     img = img.reshape((28, 28))\n",
    "#     shifted_img = shift(img, [iy, ix], cval=0, mode=\"constant\")\n",
    "#     return shifted_img.reshape([-1])"
   ]
  },
  {
   "cell_type": "code",
   "execution_count": 22,
   "metadata": {},
   "outputs": [],
   "source": [
    "# Xtrain_aug = [image for image in X_train]\n",
    "# ytrain_aug = [image for image in y_train]"
   ]
  },
  {
   "cell_type": "code",
   "execution_count": 23,
   "metadata": {},
   "outputs": [],
   "source": [
    "# for ix, iy in ((1,0), (-1,0), (0,1), (0,-1)):\n",
    "#      for img, label in zip(X_train, y_train):\n",
    "#              Xtrain_aug.append(shift_image(img, ix, iy))\n",
    "#              ytrain_aug.append(label)"
   ]
  },
  {
   "cell_type": "code",
   "execution_count": 24,
   "metadata": {},
   "outputs": [],
   "source": [
    "# shuffle_ind = np.random.permutation(len(Xtrain_aug))\n",
    "# Xtrain_aug = np.array(Xtrain_aug)[shuffle_ind]\n",
    "# ytrain_aug = np.array(ytrain_aug)[shuffle_ind]"
   ]
  },
  {
   "cell_type": "code",
   "execution_count": 25,
   "metadata": {},
   "outputs": [],
   "source": [
    "#convert to binary class matrices\n",
    "num_classes =  10\n",
    "y_train = keras.utils.to_categorical(y_train, num_classes)\n",
    "y_test = keras.utils.to_categorical(y_test, num_classes)"
   ]
  },
  {
   "cell_type": "code",
   "execution_count": 26,
   "metadata": {},
   "outputs": [],
   "source": [
    "X_train = X_train.astype('float32')\n",
    "X_test = X_test.astype('float32')\n",
    "X_train /= 255\n",
    "X_test /= 255"
   ]
  },
  {
   "cell_type": "code",
   "execution_count": 27,
   "metadata": {},
   "outputs": [
    {
     "name": "stdout",
     "output_type": "stream",
     "text": [
      "X_train shape: (60000, 28, 28, 1)\n",
      "60000 train samples\n",
      "10000 test samples\n"
     ]
    }
   ],
   "source": [
    "print('X_train shape:', X_train.shape)\n",
    "print(X_train.shape[0], 'train samples')\n",
    "print(X_test.shape[0], 'test samples')"
   ]
  },
  {
   "cell_type": "code",
   "execution_count": 28,
   "metadata": {},
   "outputs": [],
   "source": [
    "#tuning the model hyperparameters to increase the model accuracy. note: another potential methods to do this could be augmentation\n",
    "#but this is fine to prevent the model from overfitting due to the dataset size\n",
    "# adding Batch Normalization to help stabilize the training process and improve the learning rate\n",
    "batch_size = 128\n",
    "epochs = 10\n",
    "model = Sequential()\n",
    "model.add(Conv2D(32, kernel_size=(3, 3),activation='relu',kernel_initializer='he_uniform',input_shape=input_))\n",
    "model.add(Conv2D(64, (3, 3), activation='relu'))\n",
    "model.add(BatchNormalization())\n",
    "model.add(MaxPooling2D(pool_size=(2, 2)))\n",
    "model.add(Dropout(0.25))\n",
    "model.add(Flatten())\n",
    "model.add(BatchNormalization())\n",
    "model.add(Dense(256, activation='relu', kernel_initializer='he_uniform'))\n",
    "model.add(Dropout(0.5))\n",
    "model.add(Dense(num_classes, activation='softmax'))\n",
    "model.compile(loss=keras.losses.categorical_crossentropy,optimizer=keras.optimizers.SGD(lr=0.01, momentum=0.9),metrics=['accuracy'])"
   ]
  },
  {
   "cell_type": "code",
   "execution_count": 29,
   "metadata": {
    "scrolled": true
   },
   "outputs": [
    {
     "name": "stdout",
     "output_type": "stream",
     "text": [
      "Epoch 1/10\n",
      "469/469 [==============================] - 291s 620ms/step - loss: 0.2310 - accuracy: 0.9341 - val_loss: 0.1225 - val_accuracy: 0.9602\n",
      "Epoch 2/10\n",
      "469/469 [==============================] - 383s 816ms/step - loss: 0.0897 - accuracy: 0.9723 - val_loss: 0.0427 - val_accuracy: 0.9853\n",
      "Epoch 3/10\n",
      "469/469 [==============================] - 377s 805ms/step - loss: 0.0636 - accuracy: 0.9799 - val_loss: 0.0387 - val_accuracy: 0.9882\n",
      "Epoch 4/10\n",
      "469/469 [==============================] - 340s 725ms/step - loss: 0.0499 - accuracy: 0.9839 - val_loss: 0.0350 - val_accuracy: 0.9890\n",
      "Epoch 5/10\n",
      "469/469 [==============================] - 321s 685ms/step - loss: 0.0454 - accuracy: 0.9853 - val_loss: 0.0316 - val_accuracy: 0.9898\n",
      "Epoch 6/10\n",
      "469/469 [==============================] - 344s 734ms/step - loss: 0.0399 - accuracy: 0.9871 - val_loss: 0.0408 - val_accuracy: 0.9876\n",
      "Epoch 7/10\n",
      "469/469 [==============================] - 449s 958ms/step - loss: 0.0339 - accuracy: 0.9885 - val_loss: 0.0319 - val_accuracy: 0.9897\n",
      "Epoch 8/10\n",
      "469/469 [==============================] - 477s 1s/step - loss: 0.0310 - accuracy: 0.9899 - val_loss: 0.0308 - val_accuracy: 0.9908\n",
      "Epoch 9/10\n",
      "469/469 [==============================] - 476s 1s/step - loss: 0.0263 - accuracy: 0.9915 - val_loss: 0.0392 - val_accuracy: 0.9882\n",
      "Epoch 10/10\n",
      "469/469 [==============================] - 399s 851ms/step - loss: 0.0271 - accuracy: 0.9912 - val_loss: 0.0335 - val_accuracy: 0.9904\n",
      "The model has successfully trained\n"
     ]
    }
   ],
   "source": [
    "#fit and train the model\n",
    "hist = model.fit(X_train, y_train,batch_size=batch_size,epochs=epochs,verbose=1,validation_data=(X_test, y_test))\n",
    "print(\"The model has successfully trained\")"
   ]
  },
  {
   "cell_type": "code",
   "execution_count": 30,
   "metadata": {},
   "outputs": [
    {
     "name": "stdout",
     "output_type": "stream",
     "text": [
      "Test loss: 0.03352177515625954\n",
      "Test accuracy %: 99.04000163078308\n"
     ]
    }
   ],
   "source": [
    "#computing model loss value and accuracy on test data\n",
    "accVal = model.evaluate(X_test, y_test, verbose=0)\n",
    "print('Test loss:', accVal[0])\n",
    "print('Test accuracy %:', accVal[1]*100)"
   ]
  },
  {
   "cell_type": "code",
   "execution_count": 31,
   "metadata": {},
   "outputs": [],
   "source": [
    "#Result of tuning model structure: model accuracy change of 0.05, from initial accuracy\n",
    "#The model was possibly overfitting, as deteced in the evaluation using the GUI\n",
    "#saving the model\n",
    "model.save('mnist.h5')"
   ]
  },
  {
   "cell_type": "markdown",
   "metadata": {},
   "source": [
    "# GUI Application for model evaluation "
   ]
  },
  {
   "cell_type": "code",
   "execution_count": 86,
   "metadata": {},
   "outputs": [
    {
     "ename": "KeyboardInterrupt",
     "evalue": "",
     "output_type": "error",
     "traceback": [
      "\u001b[1;31m---------------------------------------------------------------------------\u001b[0m",
      "\u001b[1;31mKeyboardInterrupt\u001b[0m                         Traceback (most recent call last)",
      "\u001b[1;32m<ipython-input-86-965d21030542>\u001b[0m in \u001b[0;36m<module>\u001b[1;34m\u001b[0m\n\u001b[0;32m     66\u001b[0m \u001b[0mapp\u001b[0m \u001b[1;33m=\u001b[0m \u001b[0mApp\u001b[0m\u001b[1;33m(\u001b[0m\u001b[1;33m)\u001b[0m\u001b[1;33m\u001b[0m\u001b[1;33m\u001b[0m\u001b[0m\n\u001b[0;32m     67\u001b[0m \u001b[0mapp\u001b[0m\u001b[1;33m.\u001b[0m\u001b[0mtitle\u001b[0m\u001b[1;33m(\u001b[0m\u001b[1;34m\"Draw Digit for the app to predict: \"\u001b[0m\u001b[1;33m)\u001b[0m\u001b[1;33m\u001b[0m\u001b[1;33m\u001b[0m\u001b[0m\n\u001b[1;32m---> 68\u001b[1;33m \u001b[0mmainloop\u001b[0m\u001b[1;33m(\u001b[0m\u001b[1;33m)\u001b[0m\u001b[1;33m\u001b[0m\u001b[1;33m\u001b[0m\u001b[0m\n\u001b[0m",
      "\u001b[1;32m~\\anaconda3\\lib\\tkinter\\__init__.py\u001b[0m in \u001b[0;36mmainloop\u001b[1;34m(n)\u001b[0m\n\u001b[0;32m    591\u001b[0m \u001b[1;32mdef\u001b[0m \u001b[0mmainloop\u001b[0m\u001b[1;33m(\u001b[0m\u001b[0mn\u001b[0m\u001b[1;33m=\u001b[0m\u001b[1;36m0\u001b[0m\u001b[1;33m)\u001b[0m\u001b[1;33m:\u001b[0m\u001b[1;33m\u001b[0m\u001b[1;33m\u001b[0m\u001b[0m\n\u001b[0;32m    592\u001b[0m     \u001b[1;34m\"\"\"Run the main loop of Tcl.\"\"\"\u001b[0m\u001b[1;33m\u001b[0m\u001b[1;33m\u001b[0m\u001b[0m\n\u001b[1;32m--> 593\u001b[1;33m     \u001b[0m_default_root\u001b[0m\u001b[1;33m.\u001b[0m\u001b[0mtk\u001b[0m\u001b[1;33m.\u001b[0m\u001b[0mmainloop\u001b[0m\u001b[1;33m(\u001b[0m\u001b[0mn\u001b[0m\u001b[1;33m)\u001b[0m\u001b[1;33m\u001b[0m\u001b[1;33m\u001b[0m\u001b[0m\n\u001b[0m\u001b[0;32m    594\u001b[0m \u001b[1;33m\u001b[0m\u001b[0m\n\u001b[0;32m    595\u001b[0m \u001b[1;33m\u001b[0m\u001b[0m\n",
      "\u001b[1;31mKeyboardInterrupt\u001b[0m: "
     ]
    }
   ],
   "source": [
    "'''This is the GUI application to test/evaluate the model'''\n",
    "'''To run it, save the model on your device and save this code with a .py extensiton, and run it'''\n",
    "'''I will be deploying the GUI app and packaging it for presentation'''\n",
    "\n",
    "from tkinter import *\n",
    "from keras.models import load_model\n",
    "import tkinter as tk\n",
    "import numpy as np\n",
    "import win32gui\n",
    "from PIL import ImageGrab, Image\n",
    "\n",
    "model = load_model('mnist.h5')\n",
    "\n",
    "def predict_digit(img):\n",
    "    #changing image size to 28 x 28 \n",
    "    img = img.resize((28,28))\n",
    "    img = img.convert('L')\n",
    "    img = np.array(img)\n",
    "    #preprocessing image to reshape to (1, 28,28, 1)\n",
    "    img = img.reshape(1,28,28,1)\n",
    "    img = img.astype('float32')\n",
    "    img /= 255\n",
    "\n",
    "    #predicting the model\n",
    "    result = model.predict([img])[0]\n",
    "    return np.argmax(result), max(result)\n",
    "\n",
    "# the GUI app class\n",
    "class App(tk.Tk):\n",
    "    def __init__(self):\n",
    "        tk.Tk.__init__(self)\n",
    "\n",
    "        self.x = self.y = 0\n",
    "\n",
    "        self.canvas = tk.Canvas(self, width=300, height=300, bg = \"black\", cursor=\"cross\")\n",
    "        self.label = tk.Label(self, text=\"Thinking..\", font=(\"Helvetica\", 48))\n",
    "        self.classify_btn = tk.Button(self, text = \"Recognise\", command =         self.classify_handwriting) \n",
    "        self.button_clear = tk.Button(self, text = \"Clear\", command = self.clear_all)\n",
    "\n",
    "        # Grid structure\n",
    "        self.canvas.grid(row=0, column=0, pady=2, sticky=W, )\n",
    "        self.label.grid(row=0, column=1,pady=2, padx=2)\n",
    "        self.classify_btn.grid(row=1, column=1, pady=2, padx=2)\n",
    "        self.button_clear.grid(row=1, column=0, pady=2)\n",
    "\n",
    "        #self.canvas.bind(\"<Motion>\", self.start_pos)\n",
    "        self.canvas.bind(\"<B1-Motion>\", self.draw_lines)\n",
    "\n",
    "    def clear_all(self):\n",
    "        self.canvas.delete(\"all\")\n",
    "\n",
    "    def classify_handwriting(self):\n",
    "        HWND = self.canvas.winfo_id() # get the handle of the canvas\n",
    "        rect = win32gui.GetWindowRect(HWND) # get the coordinate of the canvas\n",
    "        im = ImageGrab.grab(rect)\n",
    "\n",
    "        digit, acc = predict_digit(im)\n",
    "        self.label.configure(text= str(digit)+', '+ str(int(acc*100))+'%')\n",
    "\n",
    "    def draw_lines(self, event):\n",
    "        self.x = event.x\n",
    "        self.y = event.y\n",
    "        r = 6\n",
    "        self.canvas.create_oval(self.x-r, self.y-r, self.x + r, self.y + r, fill='white')\n",
    "\n",
    "app = App()\n",
    "app.title(\"Draw Digit for the app to predict: \")\n",
    "mainloop()"
   ]
  },
  {
   "cell_type": "code",
   "execution_count": null,
   "metadata": {},
   "outputs": [],
   "source": []
  }
 ],
 "metadata": {
  "kernelspec": {
   "display_name": "Python 3",
   "language": "python",
   "name": "python3"
  },
  "language_info": {
   "codemirror_mode": {
    "name": "ipython",
    "version": 3
   },
   "file_extension": ".py",
   "mimetype": "text/x-python",
   "name": "python",
   "nbconvert_exporter": "python",
   "pygments_lexer": "ipython3",
   "version": "3.8.3"
  }
 },
 "nbformat": 4,
 "nbformat_minor": 4
}
